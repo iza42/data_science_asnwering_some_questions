{
 "cells": [
  {
   "cell_type": "code",
   "execution_count": null,
   "metadata": {
    "is_executing": true,
    "ExecuteTime": {
     "start_time": "2024-05-24T16:13:12.071421Z"
    }
   },
   "outputs": [],
   "source": []
  },
  {
   "cell_type": "code",
   "execution_count": null,
   "metadata": {
    "is_executing": true,
    "ExecuteTime": {
     "start_time": "2024-05-24T16:13:12.085981Z"
    }
   },
   "outputs": [],
   "source": [
    "import os\n",
    "import sys\n",
    "# Get the current working directory (i.e., the directory where your Jupyter Notebook is located)\n",
    "current_directory = os.getcwd()\n",
    "sys.path.append(current_directory)\n",
    "\n",
    "%matplotlib inline\n",
    "\n",
    "import numpy as np\n",
    "import pandas as pd\n",
    "\n",
    "import matplotlib as mpl\n",
    "import matplotlib.pyplot as plt\n",
    "\n",
    "import data_science\n",
    "\n",
    "\n",
    "plt.style.use('fivethirtyeight')\n",
    "blue = \"#008fd5\"\n",
    "red = \"#fa5138\"\n",
    "yellow = \"#e6ae38\"\n"
   ]
  },
  {
   "cell_type": "code",
   "execution_count": null,
   "metadata": {
    "is_executing": true,
    "ExecuteTime": {
     "start_time": "2024-05-24T16:13:12.088603Z"
    }
   },
   "outputs": [],
   "source": [
    "%run data_science.py > /dev/null"
   ]
  },
  {
   "cell_type": "code",
   "execution_count": null,
   "metadata": {
    "is_executing": true,
    "ExecuteTime": {
     "start_time": "2024-05-24T16:13:12.092237Z"
    }
   },
   "outputs": [],
   "source": [
    "\"\"\"\n",
    "\n",
    "Question 1 \n",
    "□ a) Read the data from \"actors.csv\" into a DataFrame, filtering \"Number of Movies\" and \"Total Gross\" columns.\n",
    "    Print the length and the first 5 tuples of the DataFrame.\n",
    "✔️ b) Select \"Number of Movies\" as x and \"Total Gross\" as y. Calculate and print slope_value and intercept_value \n",
    "    for the least squares linear regression of x and y. \n",
    "□ c) Calculate and print the coefficients (a, b, c, d) for the least squares cubic regression of x and y.\n",
    "✔️ d) Display the correlation between \"Number of Movies\" and \"Total Gross\" using matplotlib.\n",
    "✔️ e) Calculate and add the fitted y values for the linear model as a \"Linear Prediction\" column,\n",
    "    Calculate and add the fitted y values for the cubic model as a \"Cubic Prediction\" column,\n",
    "    Calculate and add a \"Linear Error\" column representing the difference between real \"Total Gross\" and \"Linear Prediction\",\n",
    "    Calculate and add a \"Cubic Error\" column representing the difference between real \"Total Gross\" and \"Cubic Prediction\"\n",
    "    inside the DataFrame. Print the first 5 rows of the DataFrame.\n",
    "\n",
    "Question 2 \n",
    "□ a) Plot the scatter graph overlaying the fitted y values for the linear model with the actual data.\n",
    "✔️ b) Plot the scatter graph overlaying the fitted y values for the cubic model with the actual data.\n",
    "□ c) Plot the scatter graph overlaying the fitted y values for both the linear and cubic models with the actual data.\n",
    "□ d) Determine the most suitable model among those plotted in A2.a, A2.b, and A2.c for our data/domain. \n",
    "    Why? Explain with a maximum of 3 sentences in an inline comment.  \n",
    "\n",
    "Question 3 \n",
    "✔️ a) Predict the Total Gross (y) value for Number of Movies (x) = 100 using the linear model. Print the value.\n",
    "✔️ b) Predict the Total Gross (y) value for Number of Movies (x) = 100 using the cubic model. Print the value.\n",
    "✔️ c) Determine the most suitable model for our data/domain among those predicted in A3.a and A3.b.\n",
    "    Why? Explain with a maximum of 3 sentences in an inline comment.\n",
    "\n",
    "Question 4\n",
    "✔️ a) Print the Slope of Regression Line and Intercept of Regression Line. \n",
    "    Plot the linear model line and linear model error for the selected samples in the same figure.\n",
    "□ b) Plot a negatively correlated linear model line, having param_slope = -20 and param_intercept = 4000.\n",
    "    Plot the linear model error for this negatively correlated line for the selected samples in the same figure.\n",
    "□ c) Plot the cubic model line and cubic model error for the selected samples in the same figure.\n",
    "□ d) Determine the most suitable model among those plotted in A4.a, A4.b, and A4.c for our data/domain. \n",
    "    Why? Explain with a maximum of 3 sentences in an inline comment.\n",
    "\n",
    "Question 5\n",
    "✔️ a) Calculate and print the root mean squared error for the linear model. Also,\n",
    "    plot the linear model line and linear model error for the selected samples in the same figure using linear_rmse().\n",
    "□ b) Calculate and print the root mean squared error for the negatively correlated linear model \n",
    "    with param_slope = -20 and param_intercept = 4000. Also,\n",
    "    plot the linear model line and its corresponding error for the selected samples in the same figure using linear_rmse().\n",
    "✔️ c) Calculate and print the root mean squared error for the cubic model. Also,\n",
    "    plot the cubic model line and its associated error for the selected samples in the same figure using cubic_rmse().\n",
    "□ d) Determine the most suitable model among those analyzed in A5.a, A5.b, and A5.c for our data/domain. \n",
    "    Why? Explain with a maximum of 3 sentences in an inline comment.\n",
    "\"\"\""
   ]
  },
  {
   "cell_type": "code",
   "execution_count": null,
   "metadata": {
    "is_executing": true,
    "ExecuteTime": {
     "start_time": "2024-05-24T16:13:12.099218Z"
    }
   },
   "outputs": [],
   "source": [
    "# A1.a\n",
    "table_df =data_science.read_csv(\"actors.csv\")\n"
   ]
  },
  {
   "cell_type": "code",
   "execution_count": null,
   "metadata": {
    "is_executing": true,
    "ExecuteTime": {
     "start_time": "2024-05-24T16:13:12.111172Z"
    }
   },
   "outputs": [],
   "source": [
    "# A1.b\n",
    "x = table_df[\"Number of Movies\"]\n",
    "y = table_df[\"Total Gross\"]\n",
    "slope_value, intercept_value = data_science.print_and_return_slope_and_intercept(table_df) "
   ]
  },
  {
   "cell_type": "code",
   "execution_count": null,
   "metadata": {
    "is_executing": true,
    "ExecuteTime": {
     "start_time": "2024-05-24T16:13:12.114664Z"
    }
   },
   "outputs": [],
   "source": [
    "# A1.c\n",
    "# x and y is stated upward cell, that's why did not state again\n",
    "a, b, c, d =data_science.print_and_return_coefficients(x,y)"
   ]
  },
  {
   "cell_type": "code",
   "execution_count": null,
   "metadata": {
    "is_executing": true,
    "ExecuteTime": {
     "start_time": "2024-05-24T16:13:12.127016Z"
    }
   },
   "outputs": [],
   "source": [
    "# A1.d\n",
    "data_science.plotting_selector(table_df)"
   ]
  },
  {
   "cell_type": "code",
   "execution_count": null,
   "metadata": {
    "is_executing": true,
    "ExecuteTime": {
     "start_time": "2024-05-24T16:13:12.253421Z"
    }
   },
   "outputs": [],
   "source": [
    "# A1.e\n",
    "data_science.prediction_and_error_columns(table_df)"
   ]
  },
  {
   "cell_type": "code",
   "execution_count": null,
   "metadata": {
    "is_executing": true
   },
   "outputs": [],
   "source": [
    "# A2.a\n",
    "data_science.plotting_selector(table_df,  if_plot_linear=True)\n"
   ]
  },
  {
   "cell_type": "code",
   "execution_count": null,
   "metadata": {
    "is_executing": true
   },
   "outputs": [],
   "source": [
    "# A2.b\n",
    "data_science.plotting_selector(table_df, if_plot_cubic = True)"
   ]
  },
  {
   "cell_type": "code",
   "execution_count": null,
   "metadata": {
    "is_executing": true
   },
   "outputs": [],
   "source": [
    "# A2.c\n",
    "data_science.plotting_selector(table_df, if_plot_linear=True, if_plot_cubic=True) "
   ]
  },
  {
   "cell_type": "code",
   "execution_count": null,
   "metadata": {
    "is_executing": true
   },
   "outputs": [],
   "source": [
    "# A2.d\n",
    "# Suitable model for this data/domain is A2.a because to see the increase in total gross more clearly according to the number of movies. Unlike nonlinear models, the linear model shows the relationship-pattern in the data set more clearly because it has less complexity."
   ]
  },
  {
   "cell_type": "code",
   "execution_count": null,
   "metadata": {
    "is_executing": true
   },
   "outputs": [],
   "source": [
    "# A3.a\n",
    "# Prediction for number of movies=100 (linear model)\n",
    "slope_value * 100 + intercept_value"
   ]
  },
  {
   "cell_type": "code",
   "execution_count": null,
   "metadata": {
    "is_executing": true
   },
   "outputs": [],
   "source": [
    "# A3.b\n",
    "# Prediction for number of movies=100 (cubic model)\n",
    "a*(100**3) + b*(100**2) + c*100 + d"
   ]
  },
  {
   "cell_type": "code",
   "execution_count": null,
   "metadata": {
    "is_executing": true
   },
   "outputs": [],
   "source": [
    "# A3.c\n",
    "# Considering the prediction results, the cubic model yields a prediction of 627.13 for Total Gross (y) at x = 100,\n",
    "# while the linear model predicts 4268.96 for the same x value. Given the dataset's y value limits (2400, 4900),\n",
    "# the cubic model's prediction aligns better with the observed range, making it the more suitable model for our data."
   ]
  },
  {
   "cell_type": "code",
   "execution_count": null,
   "metadata": {
    "is_executing": true
   },
   "outputs": [],
   "source": [
    "# A4.a\n",
    "print('Slope of Regression Line:    ', np.round(slope_value), end=\" gross per movie\\n\")\n",
    "print('Intercept of Regression Line:', np.round(intercept_value), end = \" gross\\n\")\n",
    "\n",
    "data_science.plotting_selector(table_df, if_plot_linear_line = True, if_plot_linear_error = True)"
   ]
  },
  {
   "cell_type": "code",
   "execution_count": null,
   "metadata": {
    "is_executing": true
   },
   "outputs": [],
   "source": [
    "# A4.b\n",
    "data_science.plotting_selector(table_df, param_slope=-20, param_intercept=4000,if_plot_linear_error=True, if_plot_linear_line=True )"
   ]
  },
  {
   "cell_type": "code",
   "execution_count": null,
   "metadata": {
    "is_executing": true
   },
   "outputs": [],
   "source": [
    "# A4.c\n",
    "data_science.plotting_selector(table_df, if_plot_cubic_line=True, if_plot_cubic_error=True)"
   ]
  },
  {
   "cell_type": "code",
   "execution_count": null,
   "metadata": {
    "is_executing": true
   },
   "outputs": [],
   "source": [
    "# A4.d\n",
    "# Suitable model for this data/domain is A4.c because it adapts better to the data and because the root mean squared error value is lower for that graph."
   ]
  },
  {
   "cell_type": "code",
   "execution_count": null,
   "metadata": {
    "is_executing": true
   },
   "outputs": [],
   "source": [
    "# A5.a\n",
    "data_science.linear_rmse(table_df, slope_value, intercept_value)"
   ]
  },
  {
   "cell_type": "code",
   "execution_count": null,
   "metadata": {
    "is_executing": true
   },
   "outputs": [],
   "source": [
    "# A5.b\n",
    "data_science.linear_rmse(table_df, param_slope=-20, param_intercept=4000)"
   ]
  },
  {
   "cell_type": "code",
   "execution_count": null,
   "metadata": {
    "is_executing": true
   },
   "outputs": [],
   "source": [
    "# A5.c\n",
    "data_science.cubic_rmse(table_df, a, b, c, d)"
   ]
  },
  {
   "cell_type": "code",
   "execution_count": null,
   "metadata": {
    "is_executing": true
   },
   "outputs": [],
   "source": [
    "# A5.d\n",
    "# Suitable model for this data/domain A5.c because its root mean squared error is less than the others, that means that graph fits better to the data points."
   ]
  }
 ],
 "metadata": {
  "kernelspec": {
   "display_name": "Python 3 (ipykernel)",
   "language": "python",
   "name": "python3"
  },
  "language_info": {
   "codemirror_mode": {
    "name": "ipython",
    "version": 3
   },
   "file_extension": ".py",
   "mimetype": "text/x-python",
   "name": "python",
   "nbconvert_exporter": "python",
   "pygments_lexer": "ipython3",
   "version": "3.9.16"
  }
 },
 "nbformat": 4,
 "nbformat_minor": 4
}
